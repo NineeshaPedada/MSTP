{
 "cells": [
  {
   "cell_type": "markdown",
   "metadata": {},
   "source": [
    "Question-1: Write a Python Program to largest of three given numbers (using input statement)"
   ]
  },
  {
   "cell_type": "code",
   "execution_count": 2,
   "metadata": {},
   "outputs": [
    {
     "name": "stdout",
     "output_type": "stream",
     "text": [
      "Enter n1 value31\n",
      "Enter n2 value75\n",
      "Enter n3 value21\n",
      "75 is the largest \n"
     ]
    }
   ],
   "source": [
    "n1=int(input(\"Enter n1 value\"))\n",
    "n2=int(input(\"Enter n2 value\"))\n",
    "n3=int(input(\"Enter n3 value\"))\n",
    "if(n1>n2 and n1>n3):\n",
    "    print(n1,\"is the largest\")\n",
    "elif(n2>n1 and n2>n3):\n",
    "    print(n2,\"is the largest \")\n",
    "elif(n3>n1 and n3>n2):\n",
    "    print(n3,\"is the largest\")\n",
    "else:\n",
    "    print(n1,\"is equal to\",n2,\"is equal to\",n3)"
   ]
  },
  {
   "cell_type": "markdown",
   "metadata": {},
   "source": [
    "Question-2:Write a python program to find the given number(N) in given range(lower bound-upper bound)"
   ]
  },
  {
   "cell_type": "code",
   "execution_count": 1,
   "metadata": {},
   "outputs": [
    {
     "name": "stdout",
     "output_type": "stream",
     "text": [
      "Enter lower bound number:10\n",
      "Enter upper bound number:20\n",
      "Enter a number:15\n",
      "Number exists\n"
     ]
    }
   ],
   "source": [
    "a=int(input(\"Enter lower bound number:\"))\n",
    "b=int(input(\"Enter upper bound number:\"))\n",
    "c=int(input(\"Enter a number:\"))\n",
    "if(c in range(a,b)):\n",
    "    print(\"Number exists\")\n",
    "else:\n",
    "   print(\"number does not exist\")"
   ]
  }
 ],
 "metadata": {
  "kernelspec": {
   "display_name": "Python 3",
   "language": "python",
   "name": "python3"
  },
  "language_info": {
   "codemirror_mode": {
    "name": "ipython",
    "version": 3
   },
   "file_extension": ".py",
   "mimetype": "text/x-python",
   "name": "python",
   "nbconvert_exporter": "python",
   "pygments_lexer": "ipython3",
   "version": "3.7.3"
  }
 },
 "nbformat": 4,
 "nbformat_minor": 2
}
