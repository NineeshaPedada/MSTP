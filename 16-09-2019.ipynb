{
 "cells": [
  {
   "cell_type": "markdown",
   "metadata": {},
   "source": [
    "# Files"
   ]
  },
  {
   "cell_type": "markdown",
   "metadata": {},
   "source": [
    "- file is collection of records or information\n",
    "- files is stored on secondary devices(hard disk)\n",
    "- we have some methods to work with files\n",
    ". open\n",
    ". read\n",
    ". write\n",
    ". close"
   ]
  },
  {
   "cell_type": "code",
   "execution_count": 1,
   "metadata": {},
   "outputs": [
    {
     "name": "stdout",
     "output_type": "stream",
     "text": [
      "This is sample text.\n"
     ]
    }
   ],
   "source": [
    "fh = open('sample.txt','r')\n",
    "data = fh.read()\n",
    "print(data)\n",
    "fh.close()"
   ]
  },
  {
   "cell_type": "markdown",
   "metadata": {},
   "source": [
    "# Method-2"
   ]
  },
  {
   "cell_type": "code",
   "execution_count": 2,
   "metadata": {},
   "outputs": [
    {
     "name": "stdout",
     "output_type": "stream",
     "text": [
      "This is sample text.\n"
     ]
    }
   ],
   "source": [
    "with open('sample.txt','r') as fh:\n",
    "    data=fh.read()\n",
    "    print(data)"
   ]
  },
  {
   "cell_type": "code",
   "execution_count": 3,
   "metadata": {},
   "outputs": [],
   "source": [
    "def readdata(fname):\n",
    "    fh = open(fname, 'r')\n",
    "    data = fh.read()\n",
    "    return data"
   ]
  },
  {
   "cell_type": "code",
   "execution_count": 4,
   "metadata": {},
   "outputs": [
    {
     "name": "stdout",
     "output_type": "stream",
     "text": [
      "THIS IS SAMPLE TEXT.\n"
     ]
    }
   ],
   "source": [
    "print(readdata('sample.txt').upper())"
   ]
  },
  {
   "cell_type": "code",
   "execution_count": 7,
   "metadata": {},
   "outputs": [
    {
     "name": "stdout",
     "output_type": "stream",
     "text": [
      "We are giving test to write the data in new file\n"
     ]
    }
   ],
   "source": [
    "fh = open('newfile.txt','w')\n",
    "data = input()\n",
    "fh.write(data)\n",
    "fh.close()"
   ]
  },
  {
   "cell_type": "code",
   "execution_count": 8,
   "metadata": {},
   "outputs": [],
   "source": [
    "def writedata(fname, text):\n",
    "    fh = open(fname,'w')\n",
    "    fh.write(text)\n",
    "    fh.close()\n",
    "    return 'written sucessfully'"
   ]
  },
  {
   "cell_type": "code",
   "execution_count": 9,
   "metadata": {},
   "outputs": [
    {
     "data": {
      "text/plain": [
       "'written sucessfully'"
      ]
     },
     "execution_count": 9,
     "metadata": {},
     "output_type": "execute_result"
    }
   ],
   "source": [
    "writedata('newfile.txt','hello')"
   ]
  },
  {
   "cell_type": "code",
   "execution_count": 13,
   "metadata": {},
   "outputs": [],
   "source": [
    "file='contacts_data.txt'\n",
    "def newcontact(name,contact):\n",
    "    fh=open(file,'a')\n",
    "    fh.write(name+\" \"+str(contact)+\"\\n\")\n",
    "    fh.close()\n",
    "    return 'contact saved'"
   ]
  },
  {
   "cell_type": "code",
   "execution_count": 18,
   "metadata": {},
   "outputs": [
    {
     "data": {
      "text/plain": [
       "'contact saved'"
      ]
     },
     "execution_count": 18,
     "metadata": {},
     "output_type": "execute_result"
    }
   ],
   "source": [
    "newcontact('Nineesha',7995331054)"
   ]
  },
  {
   "cell_type": "code",
   "execution_count": 19,
   "metadata": {},
   "outputs": [
    {
     "data": {
      "text/plain": [
       "'contact saved'"
      ]
     },
     "execution_count": 19,
     "metadata": {},
     "output_type": "execute_result"
    }
   ],
   "source": [
    "newcontact('mom',8978695475)"
   ]
  },
  {
   "cell_type": "code",
   "execution_count": 20,
   "metadata": {},
   "outputs": [],
   "source": [
    "def readcontact(name):\n",
    "    fh = open(file)\n",
    "    lines = fh.readlines()\n",
    "    for line in lines:\n",
    "        words = line.split()\n",
    "        contact_name = words[0]\n",
    "        contact = words[1]\n",
    "        if name == contact_name:\n",
    "            print(contact)\n",
    "            break\n",
    "    \n",
    "        "
   ]
  },
  {
   "cell_type": "code",
   "execution_count": 21,
   "metadata": {},
   "outputs": [
    {
     "name": "stdout",
     "output_type": "stream",
     "text": [
      "7995331054\n"
     ]
    }
   ],
   "source": [
    "readcontact('Nineesha')"
   ]
  },
  {
   "cell_type": "code",
   "execution_count": 22,
   "metadata": {},
   "outputs": [
    {
     "name": "stdout",
     "output_type": "stream",
     "text": [
      "8978695475\n"
     ]
    }
   ],
   "source": [
    "readcontact('Mom')"
   ]
  },
  {
   "cell_type": "code",
   "execution_count": 23,
   "metadata": {},
   "outputs": [
    {
     "name": "stdout",
     "output_type": "stream",
     "text": [
      "Nineesha 7995331054\n",
      "Mom 8978695475\n",
      "nineesha 7995331054\n",
      "mom 8978695475\n",
      "Nineesha 7995331054\n",
      "mom 8978695475\n"
     ]
    }
   ],
   "source": [
    "def readallcontacts():\n",
    "    fh = open(file)\n",
    "    lines = fh.readlines()\n",
    "    for line in lines:\n",
    "        print(line,end=\"\")\n",
    "readallcontacts()"
   ]
  },
  {
   "cell_type": "code",
   "execution_count": 24,
   "metadata": {},
   "outputs": [
    {
     "name": "stdout",
     "output_type": "stream",
     "text": [
      "Mom 8978695475\n",
      "Nineesha 7995331054\n",
      "Nineesha 7995331054\n",
      "mom 8978695475\n",
      "mom 8978695475\n",
      "nineesha 7995331054\n"
     ]
    }
   ],
   "source": [
    "def readallcontactsbysorting():\n",
    "    fh = open(file)\n",
    "    lines = fh.readlines()\n",
    "    contacts=[]\n",
    "    for line in lines:\n",
    "        contacts.append(tuple(line.split()))\n",
    "    sorted_contacts = sorted(contacts)\n",
    "    for name,contact in sorted_contacts:\n",
    "        print(name,contact)\n",
    "readallcontactsbysorting()"
   ]
  },
  {
   "cell_type": "code",
   "execution_count": null,
   "metadata": {},
   "outputs": [],
   "source": [
    "# Modes in File Handling\n",
    "we have 3 methods:\n",
    "-read()-reading\n",
    "-write()-writing\n",
    "-append()"
   ]
  },
  {
   "cell_type": "code",
   "execution_count": 8,
   "metadata": {},
   "outputs": [
    {
     "name": "stdout",
     "output_type": "stream",
     "text": [
      "new line\n",
      "Line1\n",
      "line 2\n",
      "line3\n",
      "line 4\n"
     ]
    }
   ],
   "source": [
    "f=open('data12.txt')\n",
    "fh=f.read()\n",
    "print(fh)\n",
    "f.close()"
   ]
  },
  {
   "cell_type": "code",
   "execution_count": 12,
   "metadata": {},
   "outputs": [
    {
     "name": "stdout",
     "output_type": "stream",
     "text": [
      "11\n"
     ]
    }
   ],
   "source": [
    "# Write() mode is used to write something in a file\n",
    "with open('data12.txt','w')as f:\n",
    "    fh=f.write(\"MSTP-APSSDC\")\n",
    "    print(fh)"
   ]
  },
  {
   "cell_type": "code",
   "execution_count": 27,
   "metadata": {},
   "outputs": [
    {
     "name": "stdout",
     "output_type": "stream",
     "text": [
      "21\n"
     ]
    }
   ],
   "source": [
    "#append()\n",
    "with open('data12.txt','a')as f:\n",
    "    fh=f.write(\" Python Programming \\n\")\n",
    "    print(fh)"
   ]
  },
  {
   "cell_type": "code",
   "execution_count": 29,
   "metadata": {},
   "outputs": [
    {
     "name": "stdout",
     "output_type": "stream",
     "text": [
      "74\n"
     ]
    }
   ],
   "source": [
    "#tell() -says the position of the cursor\n",
    "#seek()-Particular point in file\n",
    "with open('data12.txt','r')as f:\n",
    "    f.read()\n",
    "    print(f.tell())"
   ]
  },
  {
   "cell_type": "code",
   "execution_count": 31,
   "metadata": {},
   "outputs": [
    {
     "name": "stdout",
     "output_type": "stream",
     "text": [
      "MSTP\n"
     ]
    }
   ],
   "source": [
    "with open('data12.txt','r')as f:\n",
    "    f.read()\n",
    "    f.seek(0)\n",
    "    print(f.read(4))"
   ]
  },
  {
   "cell_type": "code",
   "execution_count": 39,
   "metadata": {},
   "outputs": [],
   "source": [
    "from random import randint\n",
    "def generatemarks(n,lb,ub):\n",
    "    with open('DataFiles/marks.txt','w') as f:\n",
    "        for i in range(0,n):\n",
    "            r=randint(lb,ub)\n",
    "            f.write(str(r)+'\\n')\n",
    "    return \n",
    "generatemarks(10000,0,100)"
   ]
  },
  {
   "cell_type": "code",
   "execution_count": 42,
   "metadata": {},
   "outputs": [
    {
     "name": "stdout",
     "output_type": "stream",
     "text": [
      "class Average: 49.6388\n",
      "% of passed students: 63.970000000000006\n",
      "% of failed students: 36.029999999999994\n",
      "% of distinct students: 20.46\n",
      "highest marks freq: 97\n",
      "lowest marks freq: 97\n"
     ]
    }
   ],
   "source": [
    "#Generating a class report ,class average,passed students,failed students\n",
    "# distinction,highestmarkfrequency,lowestmarkfrequency\n",
    "def generatereportor():\n",
    "    with open('DataFiles/marks.txt','r') as f:\n",
    "        filedata = f.read()\n",
    "        lines = filedata.split()\n",
    "        sum = 0\n",
    "        passcount=0\n",
    "        distinction =0\n",
    "        highestmark=max(lines)\n",
    "        highcount=0\n",
    "        lowestmark=min(lines)\n",
    "        lowcount=0\n",
    "        for i in lines:\n",
    "            sum+=int(i)\n",
    "            if int(i)>35:\n",
    "                passcount+=1\n",
    "            if int(i)>=80:\n",
    "                distinction+=1\n",
    "            if int(i)==int(highestmark):\n",
    "                highcount+=1\n",
    "            if int(i)==int(lowestmark):\n",
    "                lowcount+=1\n",
    "        average=sum/len(lines)\n",
    "        passpercentage=(passcount/len(lines))*100\n",
    "        failedpercentage=100-passpercentage\n",
    "        distinctionpercentage=(distinction/len(lines))*100\n",
    "        print(\"class Average:\",average)\n",
    "        print(\"% of passed students:\",passpercentage)\n",
    "        print(\"% of failed students:\",failedpercentage)\n",
    "        print(\"% of distinct students:\",distinctionpercentage)\n",
    "        print(\"highest marks freq:\",highcount)\n",
    "        print(\"lowest marks freq:\",lowcount)\n",
    "generatereportor()\n",
    "\n",
    "    "
   ]
  },
  {
   "cell_type": "code",
   "execution_count": 48,
   "metadata": {},
   "outputs": [
    {
     "data": {
      "text/plain": [
       "False"
      ]
     },
     "execution_count": 48,
     "metadata": {},
     "output_type": "execute_result"
    }
   ],
   "source": [
    "# Find and replace Application\n",
    "# count  the total number of occurences of a word\n",
    "#Check  if a word exists in a file\n",
    "#Replace alll occurences of a word with another word\n",
    "import re\n",
    "def iswordexist(filepath,word):\n",
    "    with open(filepath,'r')as f:\n",
    "        filedata=f.read()\n",
    "        pattern='[\\n]'\n",
    "        x=re.split(pattern,filedata)\n",
    "#print(x)\n",
    "        if word in x:\n",
    "            count=x.count(word)\n",
    "            return True\n",
    "        else:\n",
    "            return False\n",
    "def FindandReplace(filepath,os,ns):\n",
    "    with open(filepath,'w')as f:\n",
    "        if iswordexist(filepath,os):\n",
    "            f.write(ns)\n",
    "            return \n",
    "filepath='DataFiles/data.txt'\n",
    "FindandReplace(filepath,'data','APSSDC-MSTP')\n",
    "iswordexist(filepath,'word')"
   ]
  },
  {
   "cell_type": "code",
   "execution_count": null,
   "metadata": {},
   "outputs": [],
   "source": []
  }
 ],
 "metadata": {
  "kernelspec": {
   "display_name": "Python 3",
   "language": "python",
   "name": "python3"
  },
  "language_info": {
   "codemirror_mode": {
    "name": "ipython",
    "version": 3
   },
   "file_extension": ".py",
   "mimetype": "text/x-python",
   "name": "python",
   "nbconvert_exporter": "python",
   "pygments_lexer": "ipython3",
   "version": "3.7.3"
  }
 },
 "nbformat": 4,
 "nbformat_minor": 2
}
