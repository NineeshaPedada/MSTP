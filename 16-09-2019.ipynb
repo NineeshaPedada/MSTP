{
 "cells": [
  {
   "cell_type": "markdown",
   "metadata": {},
   "source": [
    "# Files"
   ]
  },
  {
   "cell_type": "markdown",
   "metadata": {},
   "source": [
    "- file is collection of records or information\n",
    "- files is stored on secondary devices(hard disk)\n",
    "- we have some methods to work with files\n",
    ". open\n",
    ". read\n",
    ". write\n",
    ". close"
   ]
  },
  {
   "cell_type": "code",
   "execution_count": 1,
   "metadata": {},
   "outputs": [
    {
     "name": "stdout",
     "output_type": "stream",
     "text": [
      "This is sample text.\n"
     ]
    }
   ],
   "source": [
    "fh = open('sample.txt','r')\n",
    "data = fh.read()\n",
    "print(data)\n",
    "fh.close()"
   ]
  },
  {
   "cell_type": "markdown",
   "metadata": {},
   "source": [
    "# Method-2"
   ]
  },
  {
   "cell_type": "code",
   "execution_count": 2,
   "metadata": {},
   "outputs": [
    {
     "name": "stdout",
     "output_type": "stream",
     "text": [
      "This is sample text.\n"
     ]
    }
   ],
   "source": [
    "with open('sample.txt','r') as fh:\n",
    "    data=fh.read()\n",
    "    print(data)"
   ]
  },
  {
   "cell_type": "code",
   "execution_count": 3,
   "metadata": {},
   "outputs": [],
   "source": [
    "def readdata(fname):\n",
    "    fh = open(fname, 'r')\n",
    "    data = fh.read()\n",
    "    return data"
   ]
  },
  {
   "cell_type": "code",
   "execution_count": 4,
   "metadata": {},
   "outputs": [
    {
     "name": "stdout",
     "output_type": "stream",
     "text": [
      "THIS IS SAMPLE TEXT.\n"
     ]
    }
   ],
   "source": [
    "print(readdata('sample.txt').upper())"
   ]
  },
  {
   "cell_type": "code",
   "execution_count": 7,
   "metadata": {},
   "outputs": [
    {
     "name": "stdout",
     "output_type": "stream",
     "text": [
      "We are giving test to write the data in new file\n"
     ]
    }
   ],
   "source": [
    "fh = open('newfile.txt','w')\n",
    "data = input()\n",
    "fh.write(data)\n",
    "fh.close()"
   ]
  },
  {
   "cell_type": "code",
   "execution_count": 8,
   "metadata": {},
   "outputs": [],
   "source": [
    "def writedata(fname, text):\n",
    "    fh = open(fname,'w')\n",
    "    fh.write(text)\n",
    "    fh.close()\n",
    "    return 'written sucessfully'"
   ]
  },
  {
   "cell_type": "code",
   "execution_count": 9,
   "metadata": {},
   "outputs": [
    {
     "data": {
      "text/plain": [
       "'written sucessfully'"
      ]
     },
     "execution_count": 9,
     "metadata": {},
     "output_type": "execute_result"
    }
   ],
   "source": [
    "writedata('newfile.txt','hello')"
   ]
  },
  {
   "cell_type": "code",
   "execution_count": 10,
   "metadata": {},
   "outputs": [],
   "source": [
    "file='contacts_data.txt'\n",
    "def newcontact(name,contact):\n",
    "    fh=open(file,'a')\n",
    "    fh.write(name+\" \"+str(contact)+\"\\n\")\n",
    "    fh.close()\n",
    "    return 'contact saved'"
   ]
  },
  {
   "cell_type": "code",
   "execution_count": 11,
   "metadata": {},
   "outputs": [
    {
     "data": {
      "text/plain": [
       "'contact saved'"
      ]
     },
     "execution_count": 11,
     "metadata": {},
     "output_type": "execute_result"
    }
   ],
   "source": [
    "newcontact('mahesh',9827282910)"
   ]
  },
  {
   "cell_type": "code",
   "execution_count": 12,
   "metadata": {},
   "outputs": [
    {
     "data": {
      "text/plain": [
       "'contact saved'"
      ]
     },
     "execution_count": 12,
     "metadata": {},
     "output_type": "execute_result"
    }
   ],
   "source": [
    "newcontact('krishna',9827282909)"
   ]
  },
  {
   "cell_type": "code",
   "execution_count": 13,
   "metadata": {},
   "outputs": [],
   "source": [
    "def readcontact(name):\n",
    "    fh = open(file)\n",
    "    lines = fh.readlines()\n",
    "    for line in lines:\n",
    "        words = line.split()\n",
    "        contact_name = words[0]\n",
    "        contact = words[1]\n",
    "        if name == contact_name:\n",
    "            print(contact)\n",
    "            break\n",
    "    \n",
    "        "
   ]
  },
  {
   "cell_type": "code",
   "execution_count": 14,
   "metadata": {},
   "outputs": [
    {
     "name": "stdout",
     "output_type": "stream",
     "text": [
      "9827282910\n"
     ]
    }
   ],
   "source": [
    "readcontact('mahesh')"
   ]
  },
  {
   "cell_type": "code",
   "execution_count": 15,
   "metadata": {},
   "outputs": [
    {
     "name": "stdout",
     "output_type": "stream",
     "text": [
      "9827282909\n"
     ]
    }
   ],
   "source": [
    "readcontact('krishna')"
   ]
  },
  {
   "cell_type": "code",
   "execution_count": 16,
   "metadata": {},
   "outputs": [
    {
     "name": "stdout",
     "output_type": "stream",
     "text": [
      "mahesh 9827282910\n",
      "krishna 9827282909\n"
     ]
    }
   ],
   "source": [
    "def readallcontacts():\n",
    "    fh = open(file)\n",
    "    lines = fh.readlines()\n",
    "    for line in lines:\n",
    "        print(line,end=\"\")\n",
    "readallcontacts()"
   ]
  },
  {
   "cell_type": "code",
   "execution_count": 17,
   "metadata": {},
   "outputs": [
    {
     "name": "stdout",
     "output_type": "stream",
     "text": [
      "krishna 9827282909\n",
      "mahesh 9827282910\n"
     ]
    }
   ],
   "source": [
    "def readallcontactsbysorting():\n",
    "    fh = open(file)\n",
    "    lines = fh.readlines()\n",
    "    contacts=[]\n",
    "    for line in lines:\n",
    "        contacts.append(tuple(line.split()))\n",
    "    sorted_contacts = sorted(contacts)\n",
    "    for name,contact in sorted_contacts:\n",
    "        print(name,contact)\n",
    "readallcontactsbysorting()"
   ]
  },
  {
   "cell_type": "code",
   "execution_count": null,
   "metadata": {},
   "outputs": [],
   "source": []
  }
 ],
 "metadata": {
  "kernelspec": {
   "display_name": "Python 3",
   "language": "python",
   "name": "python3"
  },
  "language_info": {
   "codemirror_mode": {
    "name": "ipython",
    "version": 3
   },
   "file_extension": ".py",
   "mimetype": "text/x-python",
   "name": "python",
   "nbconvert_exporter": "python",
   "pygments_lexer": "ipython3",
   "version": "3.7.3"
  }
 },
 "nbformat": 4,
 "nbformat_minor": 2
}
