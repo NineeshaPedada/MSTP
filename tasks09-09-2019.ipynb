{
 "cells": [
  {
   "cell_type": "code",
   "execution_count": 1,
   "metadata": {},
   "outputs": [
    {
     "name": "stdout",
     "output_type": "stream",
     "text": [
      "mahesh\n"
     ]
    }
   ],
   "source": [
    "#Question -1:Maximum length: Print the words which length has maximum if multiple names has max length print that names in same line.\n",
    "names=\"mahesh balu raghu ram\"\n",
    "s=names.split(' ')\n",
    "m=0\n",
    "for i in s:\n",
    "    l=len(i)\n",
    "    if(l>m):\n",
    "        m=l\n",
    "for j in s:\n",
    "    if(len(j)==m):\n",
    "        print(j)\n"
   ]
  },
  {
   "cell_type": "code",
   "execution_count": 2,
   "metadata": {},
   "outputs": [
    {
     "name": "stdout",
     "output_type": "stream",
     "text": [
      "Enter a string:lol\n",
      "YES\n"
     ]
    }
   ],
   "source": [
    "#Question -2:Palindrome: Need to find and print whether this string is a palindrome or not. If yes, print \"YES\" else print \"NO\".\n",
    "x = input(\"Enter a string:\")\n",
    "w = \"\" \n",
    "for i in x: \n",
    "    w = i + w \n",
    "    if (x==w): \n",
    "        print(\"YES\") "
   ]
  },
  {
   "cell_type": "code",
   "execution_count": 3,
   "metadata": {},
   "outputs": [
    {
     "name": "stdout",
     "output_type": "stream",
     "text": [
      "Please Enter String : HeLlo\n",
      "\n",
      "Original String=   HeLlo\n",
      " String After Toggling =   hElLO\n"
     ]
    }
   ],
   "source": [
    "#Question -3:Toggle String: You have been given a String S consisting of uppercase and lowercase English alphabets. You need to change the case of each alphabet in this String.\n",
    "string = input(\"Please Enter String : \")\n",
    "string1 = ''\n",
    "for i in range(len(string)):\n",
    "    if(string[i] >= 'a' and string[i] <= 'z'): \n",
    "        string1 = string1 + chr((ord(string[i]) - 32)) \n",
    "    elif(string[i] >= 'A' and string[i] <= 'Z'):\n",
    "        string1 = string1 + chr((ord(string[i]) + 32))\n",
    "    else:\n",
    "        string1 = string1 + string[i]\n",
    "print(\"\\nOriginal String=  \", string)\n",
    "print(\" String After Toggling =  \", string1)"
   ]
  },
  {
   "cell_type": "code",
   "execution_count": null,
   "metadata": {},
   "outputs": [],
   "source": []
  }
 ],
 "metadata": {
  "kernelspec": {
   "display_name": "Python 3",
   "language": "python",
   "name": "python3"
  },
  "language_info": {
   "codemirror_mode": {
    "name": "ipython",
    "version": 3
   },
   "file_extension": ".py",
   "mimetype": "text/x-python",
   "name": "python",
   "nbconvert_exporter": "python",
   "pygments_lexer": "ipython3",
   "version": "3.7.3"
  }
 },
 "nbformat": 4,
 "nbformat_minor": 2
}
