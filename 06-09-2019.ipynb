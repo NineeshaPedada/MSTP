{
 "cells": [
  {
   "cell_type": "markdown",
   "metadata": {},
   "source": [
    "# Control Statements"
   ]
  },
  {
   "cell_type": "markdown",
   "metadata": {},
   "source": [
    "### simple if"
   ]
  },
  {
   "cell_type": "markdown",
   "metadata": {},
   "source": [
    "Syntax of if statement\n",
    "if condtion:\n",
    "    statements"
   ]
  },
  {
   "cell_type": "code",
   "execution_count": 1,
   "metadata": {},
   "outputs": [
    {
     "name": "stdout",
     "output_type": "stream",
     "text": [
      "2 is a postive number\n"
     ]
    }
   ],
   "source": [
    "num=2\n",
    "if num<0:\n",
    "    print(num,\"is negative number\")\n",
    "if num>0:\n",
    "    print(num,\"is a postive number\")"
   ]
  },
  {
   "cell_type": "markdown",
   "metadata": {},
   "source": [
    "## input function"
   ]
  },
  {
   "cell_type": "code",
   "execution_count": 2,
   "metadata": {},
   "outputs": [
    {
     "name": "stdout",
     "output_type": "stream",
     "text": [
      "Enter a value66\n",
      "66 <class 'str'>\n"
     ]
    }
   ],
   "source": [
    "a=input(\"Enter a value\")\n",
    "print(a,type(a))"
   ]
  },
  {
   "cell_type": "code",
   "execution_count": 3,
   "metadata": {},
   "outputs": [
    {
     "name": "stdout",
     "output_type": "stream",
     "text": [
      "Enter a value66\n",
      "Enter b value60\n",
      "Addition of  66 and 60 is 126\n"
     ]
    }
   ],
   "source": [
    "a=int(input(\"Enter a value\"))\n",
    "b=int(input(\"Enter b value\"))\n",
    "print(\"Addition of \",a, \"and\", b,\"is\",a+b)"
   ]
  },
  {
   "cell_type": "markdown",
   "metadata": {},
   "source": [
    "### If-else"
   ]
  },
  {
   "cell_type": "code",
   "execution_count": 4,
   "metadata": {},
   "outputs": [
    {
     "name": "stdout",
     "output_type": "stream",
     "text": [
      "-60\n",
      "-60 is a negative number\n"
     ]
    }
   ],
   "source": [
    "num=int(input())\n",
    "if(num>0):\n",
    "    print(num,\"is a positive number\")\n",
    "else:\n",
    "    print(num,\"is a negative number\")\n",
    "    "
   ]
  },
  {
   "cell_type": "code",
   "execution_count": 5,
   "metadata": {},
   "outputs": [
    {
     "name": "stdout",
     "output_type": "stream",
     "text": [
      "Enter n1 value60\n",
      "Enter n2 value66\n",
      "66 is the largest number\n"
     ]
    }
   ],
   "source": [
    "n1=int(input(\"Enter n1 value\"))\n",
    "n2=int(input(\"Enter n2 value\"))\n",
    "if(n1>n2):\n",
    "    print(n1,\"is the largest number\")\n",
    "elif(n1<n2):\n",
    "    print(n2,\"is the largest number\")\n",
    "else:\n",
    "    print(n1,\"is equal to \",n2)"
   ]
  },
  {
   "cell_type": "markdown",
   "metadata": {},
   "source": [
    "### largest of 3 numbers"
   ]
  },
  {
   "cell_type": "code",
   "execution_count": 6,
   "metadata": {},
   "outputs": [
    {
     "name": "stdout",
     "output_type": "stream",
     "text": [
      "Enter n1 value60\n",
      "Enter n2 value6\n",
      "Enter n3 value66\n",
      "66 is the largest\n"
     ]
    }
   ],
   "source": [
    "n1=int(input(\"Enter n1 value\"))\n",
    "n2=int(input(\"Enter n2 value\"))\n",
    "n3=int(input(\"Enter n3 value\"))\n",
    "if(n1>n2 and n1>n3):\n",
    "    print(n1,\"is the largest\")\n",
    "elif(n2>n1 and n2>n3):\n",
    "    print(n2,\"is the largest \")\n",
    "elif(n3>n1 and n3>n2):\n",
    "    print(n3,\"is the largest\")\n",
    "else:\n",
    "    print(n1,\"is equal to\",n2,\"is equal to\",n3)\n"
   ]
  },
  {
   "cell_type": "markdown",
   "metadata": {},
   "source": [
    "### nested if"
   ]
  },
  {
   "cell_type": "code",
   "execution_count": 7,
   "metadata": {},
   "outputs": [
    {
     "name": "stdout",
     "output_type": "stream",
     "text": [
      "Enter n1 value33331\n",
      "Enter n2 value33332\n",
      "Enter n3 value99999\n",
      "99999 is the largest\n"
     ]
    }
   ],
   "source": [
    "n1=int(input(\"Enter n1 value\"))\n",
    "n2=int(input(\"Enter n2 value\"))\n",
    "n3=int(input(\"Enter n3 value\"))\n",
    "if n1>n2:\n",
    "    if n1>n3:\n",
    "        print(n1,\"is the largest\")\n",
    "    else:\n",
    "        print(n2,\"is the largest\")\n",
    "elif n2>n1:\n",
    "    if n2>n3:\n",
    "        print(n2,\"is the largest\")\n",
    "    else:\n",
    "        print(n3,\"is the largest\")\n",
    "else:\n",
    "    print(n3,\"is the largest\")"
   ]
  },
  {
   "cell_type": "markdown",
   "metadata": {},
   "source": [
    "### bounds"
   ]
  },
  {
   "cell_type": "code",
   "execution_count": 8,
   "metadata": {},
   "outputs": [
    {
     "name": "stdout",
     "output_type": "stream",
     "text": [
      "Enter lower bound number:10\n",
      "Enter upper bound number:20\n",
      "Enter a number:11\n",
      "Number exists\n"
     ]
    }
   ],
   "source": [
    "a=int(input(\"Enter lower bound number:\"))\n",
    "b=int(input(\"Enter upper bound number:\"))\n",
    "c=int(input(\"Enter a number:\"))\n",
    "if(c in range(a,b)):\n",
    "    print(\"Number exists\")\n",
    "else:\n",
    "   print(\"number does not exist\")"
   ]
  },
  {
   "cell_type": "markdown",
   "metadata": {},
   "source": [
    "## range function"
   ]
  },
  {
   "cell_type": "markdown",
   "metadata": {},
   "source": [
    "range(start,end,increment)"
   ]
  },
  {
   "cell_type": "markdown",
   "metadata": {},
   "source": [
    "# Loops"
   ]
  },
  {
   "cell_type": "markdown",
   "metadata": {},
   "source": [
    "for temp_var in sequence:\n",
    "    statements"
   ]
  },
  {
   "cell_type": "code",
   "execution_count": 10,
   "metadata": {},
   "outputs": [
    {
     "name": "stdout",
     "output_type": "stream",
     "text": [
      "0\n",
      "1\n",
      "2\n",
      "3\n",
      "4\n"
     ]
    }
   ],
   "source": [
    "for num in range(5):\n",
    "    print(num)"
   ]
  },
  {
   "cell_type": "code",
   "execution_count": 11,
   "metadata": {},
   "outputs": [
    {
     "name": "stdout",
     "output_type": "stream",
     "text": [
      "1\n",
      "2\n"
     ]
    }
   ],
   "source": [
    "for num in range(1,3):\n",
    "    print(num)"
   ]
  },
  {
   "cell_type": "code",
   "execution_count": 12,
   "metadata": {},
   "outputs": [
    {
     "name": "stdout",
     "output_type": "stream",
     "text": [
      "5\n",
      "10\n",
      "15\n",
      "20\n"
     ]
    }
   ],
   "source": [
    "for num in range(5,25,5):\n",
    "    print(num)"
   ]
  },
  {
   "cell_type": "code",
   "execution_count": 15,
   "metadata": {},
   "outputs": [
    {
     "name": "stdout",
     "output_type": "stream",
     "text": [
      "15\n",
      "14\n",
      "13\n",
      "12\n"
     ]
    }
   ],
   "source": [
    "for num in range(15,11,-1):\n",
    "    print(num)"
   ]
  },
  {
   "cell_type": "markdown",
   "metadata": {},
   "source": [
    "### print sum of  1 to 10 "
   ]
  },
  {
   "cell_type": "code",
   "execution_count": 19,
   "metadata": {},
   "outputs": [
    {
     "name": "stdout",
     "output_type": "stream",
     "text": [
      "55\n"
     ]
    }
   ],
   "source": [
    "sum=0\n",
    "for i in range(1,11):\n",
    "    sum=sum+i\n",
    "print(sum)"
   ]
  },
  {
   "cell_type": "markdown",
   "metadata": {},
   "source": [
    "### print table"
   ]
  },
  {
   "cell_type": "code",
   "execution_count": 27,
   "metadata": {},
   "outputs": [
    {
     "name": "stdout",
     "output_type": "stream",
     "text": [
      "Enter a value:5\n",
      "5 * 0 = 0\n",
      "5 * 1 = 5\n",
      "5 * 2 = 10\n",
      "5 * 3 = 15\n",
      "5 * 4 = 20\n",
      "5 * 5 = 25\n",
      "5 * 6 = 30\n",
      "5 * 7 = 35\n",
      "5 * 8 = 40\n",
      "5 * 9 = 45\n",
      "5 * 10 = 50\n",
      "5 * 11 = 55\n",
      "5 * 12 = 60\n",
      "5 * 13 = 65\n",
      "5 * 14 = 70\n",
      "5 * 15 = 75\n"
     ]
    }
   ],
   "source": [
    "p=0\n",
    "n=int(input(\"Enter a value:\"))\n",
    "for i in range(0,16):\n",
    "    p=n*i\n",
    "    print(n,\"*\",i,\"=\",p)"
   ]
  },
  {
   "cell_type": "code",
   "execution_count": 34,
   "metadata": {},
   "outputs": [
    {
     "name": "stdout",
     "output_type": "stream",
     "text": [
      "n\u0000i\u0000n\u0000e\u0000e\u0000s\u0000h\u0000a\u0000"
     ]
    }
   ],
   "source": [
    "name=\"nineesha\"\n",
    "for char in name:\n",
    "    print(char,end='\\0')"
   ]
  },
  {
   "cell_type": "markdown",
   "metadata": {},
   "source": [
    "### break"
   ]
  },
  {
   "cell_type": "code",
   "execution_count": 33,
   "metadata": {},
   "outputs": [
    {
     "name": "stdout",
     "output_type": "stream",
     "text": [
      "n\u0000i\u0000n\u0000e\u0000e\u0000"
     ]
    }
   ],
   "source": [
    "name=\"nineesha\"\n",
    "for char in name:\n",
    "    if(char=='s'):\n",
    "         break\n",
    "    print(char,end='\\0')"
   ]
  },
  {
   "cell_type": "code",
   "execution_count": 35,
   "metadata": {},
   "outputs": [
    {
     "name": "stdout",
     "output_type": "stream",
     "text": [
      "n\u0000i\u0000n\u0000e\u0000e\u0000h\u0000a\u0000"
     ]
    }
   ],
   "source": [
    "name=\"nineesha\"\n",
    "for char in name:\n",
    "    if(char=='s'):\n",
    "        continue\n",
    "    print(char,end='\\0')"
   ]
  },
  {
   "cell_type": "markdown",
   "metadata": {},
   "source": [
    "### while"
   ]
  },
  {
   "cell_type": "code",
   "execution_count": null,
   "metadata": {},
   "outputs": [],
   "source": [
    "# while condition\n",
    "while condition:\n",
    "    statements"
   ]
  },
  {
   "cell_type": "code",
   "execution_count": 42,
   "metadata": {},
   "outputs": [
    {
     "name": "stdout",
     "output_type": "stream",
     "text": [
      "0\n",
      "1\n",
      "2\n",
      "3\n",
      "4\n",
      "5\n",
      "6\n",
      "7\n"
     ]
    }
   ],
   "source": [
    "#print 1 to 5 using while\n",
    "i=0\n",
    "while i<=7:\n",
    "    print(i)\n",
    "    i=i+1"
   ]
  },
  {
   "cell_type": "code",
   "execution_count": 44,
   "metadata": {},
   "outputs": [
    {
     "name": "stdout",
     "output_type": "stream",
     "text": [
      "5040\n"
     ]
    }
   ],
   "source": [
    "# python program for factorial of a given number\n",
    "fact=1\n",
    "i=1\n",
    "while i<=7:\n",
    "    fact=fact*i\n",
    "    i=i+1\n",
    "print(fact)"
   ]
  },
  {
   "cell_type": "code",
   "execution_count": null,
   "metadata": {},
   "outputs": [],
   "source": []
  }
 ],
 "metadata": {
  "kernelspec": {
   "display_name": "Python 3",
   "language": "python",
   "name": "python3"
  },
  "language_info": {
   "codemirror_mode": {
    "name": "ipython",
    "version": 3
   },
   "file_extension": ".py",
   "mimetype": "text/x-python",
   "name": "python",
   "nbconvert_exporter": "python",
   "pygments_lexer": "ipython3",
   "version": "3.7.3"
  }
 },
 "nbformat": 4,
 "nbformat_minor": 2
}
