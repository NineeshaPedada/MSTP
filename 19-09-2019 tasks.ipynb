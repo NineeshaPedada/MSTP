{
 "cells": [
  {
   "cell_type": "markdown",
   "metadata": {},
   "source": [
    "# 16811A0566"
   ]
  },
  {
   "cell_type": "code",
   "execution_count": null,
   "metadata": {},
   "outputs": [],
   "source": [
    "'''#Question -1:\n",
    "  write a program to print the next character of given string except z(z is same as z)\n",
    "  Input Format:\n",
    "  hello\n",
    "  Output Format:\n",
    "  ifmmp'''"
   ]
  },
  {
   "cell_type": "code",
   "execution_count": 4,
   "metadata": {},
   "outputs": [
    {
     "name": "stdout",
     "output_type": "stream",
     "text": [
      "hello\n",
      "ifmmp"
     ]
    }
   ],
   "source": [
    "n=input()\n",
    "for char in n:\n",
    "    if char.isalpha():\n",
    "        if n=='Z' or n=='z':\n",
    "            print(n,end='')\n",
    "        else:\n",
    "            print(chr(ord(char)+1),end='')\n",
    "    else:\n",
    "        print(n,end='')"
   ]
  },
  {
   "cell_type": "code",
   "execution_count": null,
   "metadata": {},
   "outputs": [],
   "source": []
  }
 ],
 "metadata": {
  "kernelspec": {
   "display_name": "Python 3",
   "language": "python",
   "name": "python3"
  },
  "language_info": {
   "codemirror_mode": {
    "name": "ipython",
    "version": 3
   },
   "file_extension": ".py",
   "mimetype": "text/x-python",
   "name": "python",
   "nbconvert_exporter": "python",
   "pygments_lexer": "ipython3",
   "version": "3.7.3"
  }
 },
 "nbformat": 4,
 "nbformat_minor": 2
}
